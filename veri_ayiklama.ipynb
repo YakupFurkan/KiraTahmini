{
 "cells": [
  {
   "cell_type": "markdown",
   "metadata": {},
   "source": [
    "# Ege Bölgesi İçin Kira Tahmini Uygulaması"
   ]
  },
  {
   "cell_type": "code",
   "execution_count": 33,
   "metadata": {},
   "outputs": [],
   "source": [
    "import os\n",
    "import numpy as np\n",
    "import pandas as pd"
   ]
  },
  {
   "cell_type": "code",
   "execution_count": 34,
   "metadata": {},
   "outputs": [],
   "source": [
    "df = pd.read_csv('hepsiemlak/01.csv')"
   ]
  },
  {
   "cell_type": "code",
   "execution_count": 35,
   "metadata": {},
   "outputs": [
    {
     "name": "stdout",
     "output_type": "stream",
     "text": [
      "<class 'pandas.core.frame.DataFrame'>\n",
      "RangeIndex: 1416 entries, 0 to 1415\n",
      "Data columns (total 14 columns):\n",
      " #   Column               Non-Null Count  Dtype \n",
      "---  ------               --------------  ----- \n",
      " 0   img-link href        1416 non-null   object\n",
      " 1   photo-count          1416 non-null   int64 \n",
      " 2   list-view-price      1416 non-null   object\n",
      " 3   list-view-date       1416 non-null   object\n",
      " 4   left                 1416 non-null   object\n",
      " 5   celly                1416 non-null   object\n",
      " 6   celly 2              1416 non-null   object\n",
      " 7   celly 3              1416 non-null   object\n",
      " 8   celly 4              1247 non-null   object\n",
      " 9   list-view-location   1416 non-null   object\n",
      " 10  img-wrp href         642 non-null    object\n",
      " 11  he-lazy-image src    1321 non-null   object\n",
      " 12  he-lazy-image src 2  563 non-null    object\n",
      " 13  list-view-header     1412 non-null   object\n",
      "dtypes: int64(1), object(13)\n",
      "memory usage: 155.0+ KB\n",
      "None\n"
     ]
    }
   ],
   "source": [
    "print(df.info())"
   ]
  },
  {
   "cell_type": "code",
   "execution_count": 36,
   "metadata": {},
   "outputs": [],
   "source": [
    "files = os.listdir(\"hepsiemlak\")\n",
    "df = pd.concat([pd.read_csv(f\"hepsiemlak/{file}\") for file in files], ignore_index=True)"
   ]
  },
  {
   "cell_type": "code",
   "execution_count": 37,
   "metadata": {},
   "outputs": [
    {
     "name": "stdout",
     "output_type": "stream",
     "text": [
      "<class 'pandas.core.frame.DataFrame'>\n",
      "RangeIndex: 8136 entries, 0 to 8135\n",
      "Data columns (total 18 columns):\n",
      " #   Column               Non-Null Count  Dtype  \n",
      "---  ------               --------------  -----  \n",
      " 0   img-link href        8136 non-null   object \n",
      " 1   photo-count          8130 non-null   float64\n",
      " 2   list-view-price      8136 non-null   object \n",
      " 3   list-view-date       8136 non-null   object \n",
      " 4   left                 8114 non-null   object \n",
      " 5   celly                8136 non-null   object \n",
      " 6   celly 2              8136 non-null   object \n",
      " 7   celly 3              8136 non-null   object \n",
      " 8   celly 4              6858 non-null   object \n",
      " 9   list-view-location   8136 non-null   object \n",
      " 10  img-wrp href         4555 non-null   object \n",
      " 11  he-lazy-image src    7649 non-null   object \n",
      " 12  he-lazy-image src 2  4067 non-null   object \n",
      " 13  list-view-header     8129 non-null   object \n",
      " 14  branded__text        134 non-null    object \n",
      " 15  branded__text 2      134 non-null    object \n",
      " 16  img-wrp href 2       133 non-null    object \n",
      " 17  he-lazy-image src 3  116 non-null    object \n",
      "dtypes: float64(1), object(17)\n",
      "memory usage: 1.1+ MB\n",
      "None\n"
     ]
    }
   ],
   "source": [
    "print(df.info())"
   ]
  },
  {
   "cell_type": "code",
   "execution_count": 45,
   "metadata": {},
   "outputs": [
    {
     "data": {
      "text/html": [
       "<div>\n",
       "<style scoped>\n",
       "    .dataframe tbody tr th:only-of-type {\n",
       "        vertical-align: middle;\n",
       "    }\n",
       "\n",
       "    .dataframe tbody tr th {\n",
       "        vertical-align: top;\n",
       "    }\n",
       "\n",
       "    .dataframe thead th {\n",
       "        text-align: right;\n",
       "    }\n",
       "</style>\n",
       "<table border=\"1\" class=\"dataframe\">\n",
       "  <thead>\n",
       "    <tr style=\"text-align: right;\">\n",
       "      <th></th>\n",
       "      <th>img-link href</th>\n",
       "      <th>photo-count</th>\n",
       "      <th>list-view-price</th>\n",
       "      <th>list-view-date</th>\n",
       "      <th>left</th>\n",
       "      <th>celly</th>\n",
       "      <th>celly 2</th>\n",
       "      <th>celly 3</th>\n",
       "      <th>celly 4</th>\n",
       "      <th>list-view-location</th>\n",
       "      <th>img-wrp href</th>\n",
       "      <th>he-lazy-image src</th>\n",
       "      <th>he-lazy-image src 2</th>\n",
       "      <th>list-view-header</th>\n",
       "      <th>branded__text</th>\n",
       "      <th>branded__text 2</th>\n",
       "      <th>img-wrp href 2</th>\n",
       "      <th>he-lazy-image src 3</th>\n",
       "    </tr>\n",
       "  </thead>\n",
       "  <tbody>\n",
       "    <tr>\n",
       "      <th>2528</th>\n",
       "      <td>https://www.hepsiemlak.com/izmir-buca-kurucesm...</td>\n",
       "      <td>7.0</td>\n",
       "      <td>9.000</td>\n",
       "      <td>02-04-2024</td>\n",
       "      <td>Kiralık Daire</td>\n",
       "      <td>1 +\\n                        1</td>\n",
       "      <td>50 m²</td>\n",
       "      <td>1\\n                      Yaşında</td>\n",
       "      <td>Giriş Katı</td>\n",
       "      <td>Buca, Kuruçeşme Mahallesi</td>\n",
       "      <td>https://www.hepsiemlak.com/emlak-ofisi/izmir-z...</td>\n",
       "      <td>https://hecdn01.hemlak.com/mncropresize/182/13...</td>\n",
       "      <td>https://hecdnnw.hemlak.com/mncropresize/91/68/...</td>\n",
       "      <td>İzmir Zirveden Kaçırılmayacak Fırsat</td>\n",
       "      <td>NaN</td>\n",
       "      <td>NaN</td>\n",
       "      <td>NaN</td>\n",
       "      <td>NaN</td>\n",
       "    </tr>\n",
       "    <tr>\n",
       "      <th>526</th>\n",
       "      <td>https://www.hepsiemlak.com/izmir-cigli-ataturk...</td>\n",
       "      <td>21.0</td>\n",
       "      <td>18.500</td>\n",
       "      <td>30-03-2024</td>\n",
       "      <td>Kiralık Daire</td>\n",
       "      <td>3 +\\n                        1</td>\n",
       "      <td>120 m²</td>\n",
       "      <td>4\\n                      Yaşında</td>\n",
       "      <td>Zemin</td>\n",
       "      <td>Çiğli, Atatürk Mahallesi</td>\n",
       "      <td>https://www.hepsiemlak.com/emlak-ofisi/esentep...</td>\n",
       "      <td>https://hecdn01.hemlak.com/mncropresize/182/13...</td>\n",
       "      <td>https://hecdnnw.hemlak.com/mncropresize/91/68/...</td>\n",
       "      <td>Esentepe Gayrimenkul’den Atatürk Mahallesinde ...</td>\n",
       "      <td>NaN</td>\n",
       "      <td>NaN</td>\n",
       "      <td>NaN</td>\n",
       "      <td>NaN</td>\n",
       "    </tr>\n",
       "    <tr>\n",
       "      <th>2265</th>\n",
       "      <td>https://www.hepsiemlak.com/izmir-cesme-reisder...</td>\n",
       "      <td>35.0</td>\n",
       "      <td>750.000</td>\n",
       "      <td>16-03-2024</td>\n",
       "      <td>Kiralık Villa</td>\n",
       "      <td>3 +\\n                        1</td>\n",
       "      <td>140 m²</td>\n",
       "      <td>5\\n                      Yaşında</td>\n",
       "      <td>NaN</td>\n",
       "      <td>Çeşme, Reisdere Mahallesi</td>\n",
       "      <td>https://www.hepsiemlak.com/emlak-ofisi/ozkanla...</td>\n",
       "      <td>https://hecdn01.hemlak.com/mncropresize/182/13...</td>\n",
       "      <td>https://hecdnnw.hemlak.com/mncropresize/91/68/...</td>\n",
       "      <td>(s1692) Özel Havuzlu, Özel Bahçeli, Kiralık Ta...</td>\n",
       "      <td>NaN</td>\n",
       "      <td>NaN</td>\n",
       "      <td>NaN</td>\n",
       "      <td>NaN</td>\n",
       "    </tr>\n",
       "    <tr>\n",
       "      <th>4715</th>\n",
       "      <td>https://www.hepsiemlak.com/aydin-kusadasi-yava...</td>\n",
       "      <td>31.0</td>\n",
       "      <td>15.000</td>\n",
       "      <td>09-04-2024</td>\n",
       "      <td>Kiralık Daire</td>\n",
       "      <td>2 +\\n                        1</td>\n",
       "      <td>85 m²</td>\n",
       "      <td>16\\n                      Yaşında</td>\n",
       "      <td>Bahçe Katı</td>\n",
       "      <td>Kuşadası, Yavansu Mahallesi</td>\n",
       "      <td>https://www.hepsiemlak.com/emlak-ofisi/armada-...</td>\n",
       "      <td>https://hecdnnw.hemlak.com/mncropresize/91/68/...</td>\n",
       "      <td>NaN</td>\n",
       "      <td>Kuşadası Avm Yakınında Kiralık Boş 2+1 Daire</td>\n",
       "      <td>NaN</td>\n",
       "      <td>NaN</td>\n",
       "      <td>NaN</td>\n",
       "      <td>NaN</td>\n",
       "    </tr>\n",
       "    <tr>\n",
       "      <th>5230</th>\n",
       "      <td>https://www.hepsiemlak.com/denizli-merkezefend...</td>\n",
       "      <td>60.0</td>\n",
       "      <td>15.000</td>\n",
       "      <td>05-02-2024</td>\n",
       "      <td>Kiralık Daire</td>\n",
       "      <td>3 +\\n                        1</td>\n",
       "      <td>135 m²</td>\n",
       "      <td>15\\n                      Yaşında</td>\n",
       "      <td>2. Kat</td>\n",
       "      <td>Merkezefendi, Selçuk Bey Mahallesi</td>\n",
       "      <td>NaN</td>\n",
       "      <td>https://hecdn01.hemlak.com/mncropresize/182/13...</td>\n",
       "      <td>NaN</td>\n",
       "      <td>Özyapı'dan Selçukbey'de 135 M²     3+1 Kiralık...</td>\n",
       "      <td>NaN</td>\n",
       "      <td>NaN</td>\n",
       "      <td>NaN</td>\n",
       "      <td>NaN</td>\n",
       "    </tr>\n",
       "  </tbody>\n",
       "</table>\n",
       "</div>"
      ],
      "text/plain": [
       "                                          img-link href  photo-count  \\\n",
       "2528  https://www.hepsiemlak.com/izmir-buca-kurucesm...          7.0   \n",
       "526   https://www.hepsiemlak.com/izmir-cigli-ataturk...         21.0   \n",
       "2265  https://www.hepsiemlak.com/izmir-cesme-reisder...         35.0   \n",
       "4715  https://www.hepsiemlak.com/aydin-kusadasi-yava...         31.0   \n",
       "5230  https://www.hepsiemlak.com/denizli-merkezefend...         60.0   \n",
       "\n",
       "     list-view-price list-view-date           left  \\\n",
       "2528           9.000     02-04-2024  Kiralık Daire   \n",
       "526           18.500     30-03-2024  Kiralık Daire   \n",
       "2265         750.000     16-03-2024  Kiralık Villa   \n",
       "4715          15.000     09-04-2024  Kiralık Daire   \n",
       "5230          15.000     05-02-2024  Kiralık Daire   \n",
       "\n",
       "                               celly celly 2  \\\n",
       "2528  1 +\\n                        1   50 m²   \n",
       "526   3 +\\n                        1  120 m²   \n",
       "2265  3 +\\n                        1  140 m²   \n",
       "4715  2 +\\n                        1   85 m²   \n",
       "5230  3 +\\n                        1  135 m²   \n",
       "\n",
       "                                celly 3     celly 4  \\\n",
       "2528   1\\n                      Yaşında  Giriş Katı   \n",
       "526    4\\n                      Yaşında       Zemin   \n",
       "2265   5\\n                      Yaşında         NaN   \n",
       "4715  16\\n                      Yaşında  Bahçe Katı   \n",
       "5230  15\\n                      Yaşında      2. Kat   \n",
       "\n",
       "                      list-view-location  \\\n",
       "2528           Buca, Kuruçeşme Mahallesi   \n",
       "526             Çiğli, Atatürk Mahallesi   \n",
       "2265           Çeşme, Reisdere Mahallesi   \n",
       "4715         Kuşadası, Yavansu Mahallesi   \n",
       "5230  Merkezefendi, Selçuk Bey Mahallesi   \n",
       "\n",
       "                                           img-wrp href  \\\n",
       "2528  https://www.hepsiemlak.com/emlak-ofisi/izmir-z...   \n",
       "526   https://www.hepsiemlak.com/emlak-ofisi/esentep...   \n",
       "2265  https://www.hepsiemlak.com/emlak-ofisi/ozkanla...   \n",
       "4715  https://www.hepsiemlak.com/emlak-ofisi/armada-...   \n",
       "5230                                                NaN   \n",
       "\n",
       "                                      he-lazy-image src  \\\n",
       "2528  https://hecdn01.hemlak.com/mncropresize/182/13...   \n",
       "526   https://hecdn01.hemlak.com/mncropresize/182/13...   \n",
       "2265  https://hecdn01.hemlak.com/mncropresize/182/13...   \n",
       "4715  https://hecdnnw.hemlak.com/mncropresize/91/68/...   \n",
       "5230  https://hecdn01.hemlak.com/mncropresize/182/13...   \n",
       "\n",
       "                                    he-lazy-image src 2  \\\n",
       "2528  https://hecdnnw.hemlak.com/mncropresize/91/68/...   \n",
       "526   https://hecdnnw.hemlak.com/mncropresize/91/68/...   \n",
       "2265  https://hecdnnw.hemlak.com/mncropresize/91/68/...   \n",
       "4715                                                NaN   \n",
       "5230                                                NaN   \n",
       "\n",
       "                                       list-view-header branded__text  \\\n",
       "2528               İzmir Zirveden Kaçırılmayacak Fırsat           NaN   \n",
       "526   Esentepe Gayrimenkul’den Atatürk Mahallesinde ...           NaN   \n",
       "2265  (s1692) Özel Havuzlu, Özel Bahçeli, Kiralık Ta...           NaN   \n",
       "4715       Kuşadası Avm Yakınında Kiralık Boş 2+1 Daire           NaN   \n",
       "5230  Özyapı'dan Selçukbey'de 135 M²     3+1 Kiralık...           NaN   \n",
       "\n",
       "     branded__text 2 img-wrp href 2 he-lazy-image src 3  \n",
       "2528             NaN            NaN                 NaN  \n",
       "526              NaN            NaN                 NaN  \n",
       "2265             NaN            NaN                 NaN  \n",
       "4715             NaN            NaN                 NaN  \n",
       "5230             NaN            NaN                 NaN  "
      ]
     },
     "execution_count": 45,
     "metadata": {},
     "output_type": "execute_result"
    }
   ],
   "source": [
    "df.sample(5)"
   ]
  },
  {
   "cell_type": "code",
   "execution_count": 52,
   "metadata": {},
   "outputs": [
    {
     "name": "stdout",
     "output_type": "stream",
     "text": [
      "Index(['img-link href', 'photo-count', 'list-view-price', 'list-view-date',\n",
      "       'left', 'celly', 'celly 2', 'celly 3', 'celly 4', 'list-view-location',\n",
      "       'img-wrp href', 'he-lazy-image src', 'he-lazy-image src 2',\n",
      "       'list-view-header', 'branded__text', 'branded__text 2',\n",
      "       'img-wrp href 2', 'he-lazy-image src 3'],\n",
      "      dtype='object')\n"
     ]
    }
   ],
   "source": [
    "print(df.columns)"
   ]
  },
  {
   "cell_type": "code",
   "execution_count": 53,
   "metadata": {},
   "outputs": [],
   "source": [
    "df.drop(['photo-count','list-view-date','left','list-view-location','img-wrp href', 'he-lazy-image src', 'he-lazy-image src 2','list-view-header', 'branded__text', 'branded__text 2','img-wrp href 2', 'he-lazy-image src 3'],axis=1, inplace=True)"
   ]
  },
  {
   "cell_type": "code",
   "execution_count": 55,
   "metadata": {},
   "outputs": [
    {
     "name": "stdout",
     "output_type": "stream",
     "text": [
      "<class 'pandas.core.frame.DataFrame'>\n",
      "RangeIndex: 8136 entries, 0 to 8135\n",
      "Data columns (total 6 columns):\n",
      " #   Column           Non-Null Count  Dtype \n",
      "---  ------           --------------  ----- \n",
      " 0   img-link href    8136 non-null   object\n",
      " 1   list-view-price  8136 non-null   object\n",
      " 2   celly            8136 non-null   object\n",
      " 3   celly 2          8136 non-null   object\n",
      " 4   celly 3          8136 non-null   object\n",
      " 5   celly 4          6858 non-null   object\n",
      "dtypes: object(6)\n",
      "memory usage: 381.5+ KB\n"
     ]
    }
   ],
   "source": [
    "df.info()"
   ]
  },
  {
   "cell_type": "code",
   "execution_count": null,
   "metadata": {},
   "outputs": [],
   "source": []
  }
 ],
 "metadata": {
  "kernelspec": {
   "display_name": "base",
   "language": "python",
   "name": "python3"
  },
  "language_info": {
   "codemirror_mode": {
    "name": "ipython",
    "version": 3
   },
   "file_extension": ".py",
   "mimetype": "text/x-python",
   "name": "python",
   "nbconvert_exporter": "python",
   "pygments_lexer": "ipython3",
   "version": "3.12.7"
  }
 },
 "nbformat": 4,
 "nbformat_minor": 2
}
