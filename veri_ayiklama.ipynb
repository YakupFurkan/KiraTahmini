{
 "cells": [
  {
   "cell_type": "markdown",
   "metadata": {},
   "source": [
    "# Ege Bölgesi İçin Kira Tahmini Uygulaması"
   ]
  },
  {
   "cell_type": "code",
   "execution_count": 86,
   "metadata": {},
   "outputs": [],
   "source": [
    "import os\n",
    "import numpy as np\n",
    "import pandas as pd"
   ]
  },
  {
   "cell_type": "code",
   "execution_count": 87,
   "metadata": {},
   "outputs": [],
   "source": [
    "df = pd.read_csv('hepsiemlak/01.csv')"
   ]
  },
  {
   "cell_type": "code",
   "execution_count": 88,
   "metadata": {},
   "outputs": [
    {
     "name": "stdout",
     "output_type": "stream",
     "text": [
      "<class 'pandas.core.frame.DataFrame'>\n",
      "RangeIndex: 1416 entries, 0 to 1415\n",
      "Data columns (total 14 columns):\n",
      " #   Column               Non-Null Count  Dtype \n",
      "---  ------               --------------  ----- \n",
      " 0   img-link href        1416 non-null   object\n",
      " 1   photo-count          1416 non-null   int64 \n",
      " 2   list-view-price      1416 non-null   object\n",
      " 3   list-view-date       1416 non-null   object\n",
      " 4   left                 1416 non-null   object\n",
      " 5   celly                1416 non-null   object\n",
      " 6   celly 2              1416 non-null   object\n",
      " 7   celly 3              1416 non-null   object\n",
      " 8   celly 4              1247 non-null   object\n",
      " 9   list-view-location   1416 non-null   object\n",
      " 10  img-wrp href         642 non-null    object\n",
      " 11  he-lazy-image src    1321 non-null   object\n",
      " 12  he-lazy-image src 2  563 non-null    object\n",
      " 13  list-view-header     1412 non-null   object\n",
      "dtypes: int64(1), object(13)\n",
      "memory usage: 155.0+ KB\n",
      "None\n"
     ]
    }
   ],
   "source": [
    "print(df.info())"
   ]
  },
  {
   "cell_type": "code",
   "execution_count": 89,
   "metadata": {},
   "outputs": [],
   "source": [
    "def drop_columns(df, cols):\n",
    "    for col in cols:\n",
    "        try:\n",
    "            df.drop([col], axis=1, inplace=True)\n",
    "        except Exception as e:\n",
    "            print(f\"Bir hata oluştu: {e}\")"
   ]
  },
  {
   "cell_type": "code",
   "execution_count": 90,
   "metadata": {},
   "outputs": [],
   "source": [
    "files = os.listdir(\"hepsiemlak\")\n",
    "df = pd.concat([pd.read_csv(f\"hepsiemlak/{file}\") for file in files], ignore_index=True)"
   ]
  },
  {
   "cell_type": "code",
   "execution_count": 91,
   "metadata": {},
   "outputs": [
    {
     "name": "stdout",
     "output_type": "stream",
     "text": [
      "<class 'pandas.core.frame.DataFrame'>\n",
      "RangeIndex: 8136 entries, 0 to 8135\n",
      "Data columns (total 18 columns):\n",
      " #   Column               Non-Null Count  Dtype  \n",
      "---  ------               --------------  -----  \n",
      " 0   img-link href        8136 non-null   object \n",
      " 1   photo-count          8130 non-null   float64\n",
      " 2   list-view-price      8136 non-null   object \n",
      " 3   list-view-date       8136 non-null   object \n",
      " 4   left                 8114 non-null   object \n",
      " 5   celly                8136 non-null   object \n",
      " 6   celly 2              8136 non-null   object \n",
      " 7   celly 3              8136 non-null   object \n",
      " 8   celly 4              6858 non-null   object \n",
      " 9   list-view-location   8136 non-null   object \n",
      " 10  img-wrp href         4555 non-null   object \n",
      " 11  he-lazy-image src    7649 non-null   object \n",
      " 12  he-lazy-image src 2  4067 non-null   object \n",
      " 13  list-view-header     8129 non-null   object \n",
      " 14  branded__text        134 non-null    object \n",
      " 15  branded__text 2      134 non-null    object \n",
      " 16  img-wrp href 2       133 non-null    object \n",
      " 17  he-lazy-image src 3  116 non-null    object \n",
      "dtypes: float64(1), object(17)\n",
      "memory usage: 1.1+ MB\n",
      "None\n"
     ]
    }
   ],
   "source": [
    "print(df.info())"
   ]
  },
  {
   "cell_type": "code",
   "execution_count": 92,
   "metadata": {},
   "outputs": [
    {
     "data": {
      "text/html": [
       "<div>\n",
       "<style scoped>\n",
       "    .dataframe tbody tr th:only-of-type {\n",
       "        vertical-align: middle;\n",
       "    }\n",
       "\n",
       "    .dataframe tbody tr th {\n",
       "        vertical-align: top;\n",
       "    }\n",
       "\n",
       "    .dataframe thead th {\n",
       "        text-align: right;\n",
       "    }\n",
       "</style>\n",
       "<table border=\"1\" class=\"dataframe\">\n",
       "  <thead>\n",
       "    <tr style=\"text-align: right;\">\n",
       "      <th></th>\n",
       "      <th>img-link href</th>\n",
       "      <th>photo-count</th>\n",
       "      <th>list-view-price</th>\n",
       "      <th>list-view-date</th>\n",
       "      <th>left</th>\n",
       "      <th>celly</th>\n",
       "      <th>celly 2</th>\n",
       "      <th>celly 3</th>\n",
       "      <th>celly 4</th>\n",
       "      <th>list-view-location</th>\n",
       "      <th>img-wrp href</th>\n",
       "      <th>he-lazy-image src</th>\n",
       "      <th>he-lazy-image src 2</th>\n",
       "      <th>list-view-header</th>\n",
       "      <th>branded__text</th>\n",
       "      <th>branded__text 2</th>\n",
       "      <th>img-wrp href 2</th>\n",
       "      <th>he-lazy-image src 3</th>\n",
       "    </tr>\n",
       "  </thead>\n",
       "  <tbody>\n",
       "    <tr>\n",
       "      <th>1841</th>\n",
       "      <td>https://www.hepsiemlak.com/izmir-bornova-inonu...</td>\n",
       "      <td>10.0</td>\n",
       "      <td>13.500</td>\n",
       "      <td>20-02-2024</td>\n",
       "      <td>Kiralık Daire</td>\n",
       "      <td>1 +\\n                        1</td>\n",
       "      <td>80 m²</td>\n",
       "      <td>25\\n                      Yaşında</td>\n",
       "      <td>4. Kat</td>\n",
       "      <td>Bornova, İnönü Mahallesi</td>\n",
       "      <td>NaN</td>\n",
       "      <td>https://hecdn01.hemlak.com/mncropresize/182/13...</td>\n",
       "      <td>NaN</td>\n",
       "      <td>İzmir Bornova İnönü Mah. Kiralık Eşyalı Daire 1+1</td>\n",
       "      <td>NaN</td>\n",
       "      <td>NaN</td>\n",
       "      <td>NaN</td>\n",
       "      <td>NaN</td>\n",
       "    </tr>\n",
       "    <tr>\n",
       "      <th>4209</th>\n",
       "      <td>https://www.hepsiemlak.com/aydin-efeler-hasane...</td>\n",
       "      <td>27.0</td>\n",
       "      <td>13.000</td>\n",
       "      <td>26-03-2024</td>\n",
       "      <td>Kiralık Daire</td>\n",
       "      <td>3 +\\n                        1</td>\n",
       "      <td>140 m²</td>\n",
       "      <td>25\\n                      Yaşında</td>\n",
       "      <td>Ara Kat</td>\n",
       "      <td>Efeler, Hasanefendi - Ramazan Paşa Mahallesi</td>\n",
       "      <td>NaN</td>\n",
       "      <td>https://hecdn01.hemlak.com/mncropresize/182/13...</td>\n",
       "      <td>NaN</td>\n",
       "      <td>Hasanefendi Mahallesınde 3+1kiralık Daire</td>\n",
       "      <td>NaN</td>\n",
       "      <td>NaN</td>\n",
       "      <td>NaN</td>\n",
       "      <td>NaN</td>\n",
       "    </tr>\n",
       "    <tr>\n",
       "      <th>4964</th>\n",
       "      <td>https://www.hepsiemlak.com/denizli-merkezefend...</td>\n",
       "      <td>59.0</td>\n",
       "      <td>12.000</td>\n",
       "      <td>27-03-2024</td>\n",
       "      <td>Kiralık Daire</td>\n",
       "      <td>2 +\\n                        1</td>\n",
       "      <td>100 m²</td>\n",
       "      <td>Sıfır Bina</td>\n",
       "      <td>2. Kat</td>\n",
       "      <td>Merkezefendi, Şemikler Mahallesi</td>\n",
       "      <td>https://www.hepsiemlak.com/emlak-ofisi/ozyapi-...</td>\n",
       "      <td>https://hecdn01.hemlak.com/mncropresize/182/13...</td>\n",
       "      <td>https://hecdnnw.hemlak.com/mncropresize/91/68/...</td>\n",
       "      <td>Özyapı'dan Naz Bayrak Yakını 100 M²   2+1 Kira...</td>\n",
       "      <td>NaN</td>\n",
       "      <td>NaN</td>\n",
       "      <td>NaN</td>\n",
       "      <td>NaN</td>\n",
       "    </tr>\n",
       "    <tr>\n",
       "      <th>7368</th>\n",
       "      <td>https://www.hepsiemlak.com/mugla-mentese-akcao...</td>\n",
       "      <td>11.0</td>\n",
       "      <td>15.000</td>\n",
       "      <td>06-03-2024</td>\n",
       "      <td>Kiralık Daire</td>\n",
       "      <td>3 +\\n                        1</td>\n",
       "      <td>125 m²</td>\n",
       "      <td>15\\n                      Yaşında</td>\n",
       "      <td>2. Kat</td>\n",
       "      <td>Menteşe, Akçaova Mahallesi</td>\n",
       "      <td>NaN</td>\n",
       "      <td>NaN</td>\n",
       "      <td>NaN</td>\n",
       "      <td>Akçaova Mh.  Kiralik Daire</td>\n",
       "      <td>NaN</td>\n",
       "      <td>NaN</td>\n",
       "      <td>NaN</td>\n",
       "      <td>NaN</td>\n",
       "    </tr>\n",
       "    <tr>\n",
       "      <th>2829</th>\n",
       "      <td>https://www.hepsiemlak.com/izmir-urla-iskele-k...</td>\n",
       "      <td>35.0</td>\n",
       "      <td>40.000</td>\n",
       "      <td>19-02-2024</td>\n",
       "      <td>Kiralık Daire</td>\n",
       "      <td>2 +\\n                        1</td>\n",
       "      <td>95 m²</td>\n",
       "      <td>5\\n                      Yaşında</td>\n",
       "      <td>Yüksek Giriş</td>\n",
       "      <td>Urla, İskele Mahallesi</td>\n",
       "      <td>https://www.hepsiemlak.com/emlak-ofisi/kw-ales...</td>\n",
       "      <td>https://hecdn01.hemlak.com/mncropresize/182/13...</td>\n",
       "      <td>https://hecdnnw.hemlak.com/mncropresize/91/68/...</td>\n",
       "      <td>Urla İskele'nin Engüzel Deniz Manzarasna Sahip...</td>\n",
       "      <td>NaN</td>\n",
       "      <td>NaN</td>\n",
       "      <td>NaN</td>\n",
       "      <td>NaN</td>\n",
       "    </tr>\n",
       "  </tbody>\n",
       "</table>\n",
       "</div>"
      ],
      "text/plain": [
       "                                          img-link href  photo-count  \\\n",
       "1841  https://www.hepsiemlak.com/izmir-bornova-inonu...         10.0   \n",
       "4209  https://www.hepsiemlak.com/aydin-efeler-hasane...         27.0   \n",
       "4964  https://www.hepsiemlak.com/denizli-merkezefend...         59.0   \n",
       "7368  https://www.hepsiemlak.com/mugla-mentese-akcao...         11.0   \n",
       "2829  https://www.hepsiemlak.com/izmir-urla-iskele-k...         35.0   \n",
       "\n",
       "     list-view-price list-view-date           left  \\\n",
       "1841          13.500     20-02-2024  Kiralık Daire   \n",
       "4209          13.000     26-03-2024  Kiralık Daire   \n",
       "4964          12.000     27-03-2024  Kiralık Daire   \n",
       "7368          15.000     06-03-2024  Kiralık Daire   \n",
       "2829          40.000     19-02-2024  Kiralık Daire   \n",
       "\n",
       "                               celly celly 2  \\\n",
       "1841  1 +\\n                        1   80 m²   \n",
       "4209  3 +\\n                        1  140 m²   \n",
       "4964  2 +\\n                        1  100 m²   \n",
       "7368  3 +\\n                        1  125 m²   \n",
       "2829  2 +\\n                        1   95 m²   \n",
       "\n",
       "                                celly 3       celly 4  \\\n",
       "1841  25\\n                      Yaşında        4. Kat   \n",
       "4209  25\\n                      Yaşında       Ara Kat   \n",
       "4964                         Sıfır Bina        2. Kat   \n",
       "7368  15\\n                      Yaşında        2. Kat   \n",
       "2829   5\\n                      Yaşında  Yüksek Giriş   \n",
       "\n",
       "                                list-view-location  \\\n",
       "1841                      Bornova, İnönü Mahallesi   \n",
       "4209  Efeler, Hasanefendi - Ramazan Paşa Mahallesi   \n",
       "4964              Merkezefendi, Şemikler Mahallesi   \n",
       "7368                    Menteşe, Akçaova Mahallesi   \n",
       "2829                        Urla, İskele Mahallesi   \n",
       "\n",
       "                                           img-wrp href  \\\n",
       "1841                                                NaN   \n",
       "4209                                                NaN   \n",
       "4964  https://www.hepsiemlak.com/emlak-ofisi/ozyapi-...   \n",
       "7368                                                NaN   \n",
       "2829  https://www.hepsiemlak.com/emlak-ofisi/kw-ales...   \n",
       "\n",
       "                                      he-lazy-image src  \\\n",
       "1841  https://hecdn01.hemlak.com/mncropresize/182/13...   \n",
       "4209  https://hecdn01.hemlak.com/mncropresize/182/13...   \n",
       "4964  https://hecdn01.hemlak.com/mncropresize/182/13...   \n",
       "7368                                                NaN   \n",
       "2829  https://hecdn01.hemlak.com/mncropresize/182/13...   \n",
       "\n",
       "                                    he-lazy-image src 2  \\\n",
       "1841                                                NaN   \n",
       "4209                                                NaN   \n",
       "4964  https://hecdnnw.hemlak.com/mncropresize/91/68/...   \n",
       "7368                                                NaN   \n",
       "2829  https://hecdnnw.hemlak.com/mncropresize/91/68/...   \n",
       "\n",
       "                                       list-view-header branded__text  \\\n",
       "1841  İzmir Bornova İnönü Mah. Kiralık Eşyalı Daire 1+1           NaN   \n",
       "4209          Hasanefendi Mahallesınde 3+1kiralık Daire           NaN   \n",
       "4964  Özyapı'dan Naz Bayrak Yakını 100 M²   2+1 Kira...           NaN   \n",
       "7368                         Akçaova Mh.  Kiralik Daire           NaN   \n",
       "2829  Urla İskele'nin Engüzel Deniz Manzarasna Sahip...           NaN   \n",
       "\n",
       "     branded__text 2 img-wrp href 2 he-lazy-image src 3  \n",
       "1841             NaN            NaN                 NaN  \n",
       "4209             NaN            NaN                 NaN  \n",
       "4964             NaN            NaN                 NaN  \n",
       "7368             NaN            NaN                 NaN  \n",
       "2829             NaN            NaN                 NaN  "
      ]
     },
     "execution_count": 92,
     "metadata": {},
     "output_type": "execute_result"
    }
   ],
   "source": [
    "df.sample(5)"
   ]
  },
  {
   "cell_type": "code",
   "execution_count": 93,
   "metadata": {},
   "outputs": [
    {
     "name": "stdout",
     "output_type": "stream",
     "text": [
      "Index(['img-link href', 'photo-count', 'list-view-price', 'list-view-date',\n",
      "       'left', 'celly', 'celly 2', 'celly 3', 'celly 4', 'list-view-location',\n",
      "       'img-wrp href', 'he-lazy-image src', 'he-lazy-image src 2',\n",
      "       'list-view-header', 'branded__text', 'branded__text 2',\n",
      "       'img-wrp href 2', 'he-lazy-image src 3'],\n",
      "      dtype='object')\n"
     ]
    }
   ],
   "source": [
    "print(df.columns)"
   ]
  },
  {
   "cell_type": "code",
   "execution_count": 94,
   "metadata": {},
   "outputs": [],
   "source": [
    "cols = ['photo-count','list-view-date','left','list-view-location','img-wrp href', 'he-lazy-image src', 'he-lazy-image src 2','list-view-header', 'branded__text', 'branded__text 2','img-wrp href 2', 'he-lazy-image src 3']\n",
    "drop_columns(df, cols)"
   ]
  },
  {
   "cell_type": "code",
   "execution_count": 95,
   "metadata": {},
   "outputs": [
    {
     "name": "stdout",
     "output_type": "stream",
     "text": [
      "<class 'pandas.core.frame.DataFrame'>\n",
      "RangeIndex: 8136 entries, 0 to 8135\n",
      "Data columns (total 6 columns):\n",
      " #   Column           Non-Null Count  Dtype \n",
      "---  ------           --------------  ----- \n",
      " 0   img-link href    8136 non-null   object\n",
      " 1   list-view-price  8136 non-null   object\n",
      " 2   celly            8136 non-null   object\n",
      " 3   celly 2          8136 non-null   object\n",
      " 4   celly 3          8136 non-null   object\n",
      " 5   celly 4          6858 non-null   object\n",
      "dtypes: object(6)\n",
      "memory usage: 381.5+ KB\n"
     ]
    }
   ],
   "source": [
    "df.info()"
   ]
  },
  {
   "cell_type": "code",
   "execution_count": 96,
   "metadata": {},
   "outputs": [
    {
     "name": "stdout",
     "output_type": "stream",
     "text": [
      "['kilic_reis' 'akin_simav' 'adatepe' 'yaylacik' 'bahcelievler' 'kultur'\n",
      " 'kazimdirik' 'yesil' 'atifbey' 'dokuz_eylul' 'irmak' 'cumhuriyet'\n",
      " 'gumuldur_inonu' 'alacati' 'esenyali' 'bostanli' 'colak_ibrahim_bey'\n",
      " 'cakmakli' 'yali' 'umut' 'manavkuyu' 'cakaltepe' 'ataturk' 'camlicay'\n",
      " 'kucuk_cigli' 'cetin_emec' 'zafer' 'sogukkuyu' 'zubeyde_hanim' 'emek'\n",
      " 'cakabey' 'germiyan' 'yenikent' 'yenigun' 'barbaros' 'gulyaka'\n",
      " 'yasar_kemal' 'general_kazim_ozalp' 'kozagac' 'goncalar' 'mansuroglu'\n",
      " 'denizli' 'bayrakli' 'egitim' 'evka_3' 'mithatpasa' 'fatih' 'altievler'\n",
      " 'limanreis' 'guvendik' 'yesiltepe' 'atasehir' 'cukuralti' 'esentepe'\n",
      " 'kemal_ataturk' 'mehmet_ali_akman' '29_ekim' 'onur' 'tuna' 'kabakum'\n",
      " 'fevzi_cakmak' 'gazikent' 'erzene' 'camli' 'poligon' 'goztepe' 'atilla'\n",
      " 'doganay' 'cuneytbey' 'kurucesme' 'altinyunus' 'balatcik' 'reisdere'\n",
      " 'bahriye_ucok' 'uckuyular' 'dedebasi' 'imbatli' 'firat' 'ismet_inonu'\n",
      " 'tahsin_yazici' 'ilica' 'vatan' 'camtepe' 'ornekkoy' 'semikler'\n",
      " 'alsancak' 'metin_oktay' 'atakent' 'doganlar' 'donanmaci' 'murat_reis'\n",
      " 'dalyan' 'nergiz' 'orhanli' 'kemal_reis' 'torasan' 'alaybey'\n",
      " 'kahramanlar' 'bahariye' 'altay' 'refet_bele' 'mustafa_kemal_ataturk'\n",
      " 'camlikule' 'koruturk' 'tepekule' 'inkilap' 'basin_sitesi' 'aksoy'\n",
      " 'turgut_reis' 'gulbahce' 'mimar_sinan' 'tersane' 'bahar' 'koyici'\n",
      " 'kazim_karabekir' 'arap_hasan' 'ciftlik' 'piri_reis' '16_eylul'\n",
      " 'sirinkent' 'mevlana' 'ismetpasa' 'maltepe' 'aydinlikevler' 'musalla'\n",
      " 'aydogdu' 'gumuldur_fevzi_cakmak' 'candarli' '30_agustos' 'kahramandere'\n",
      " 'hidirlik' 'halkapinar' 'fikri_altay' 'ali_fuat_cebesoy' 'yildiz'\n",
      " 'osmangazi' 'selvili' 'yesilova' 'salimbey' 'kemalpasa' 'narli' 'saip'\n",
      " '75_yil' 'yedi_eylul' 'inonu' 'yenikale' 'gorece_cumhuriyet' 'salihler'\n",
      " 'ahmet_efendi' 'rafet_pasa' 'muhittin_erener' 'gunesli' 'maliyeciler'\n",
      " 'kasimpasa' 'mavisehir' '9_eylul' 'gazipasa' 'sakarya' 'calikusu'\n",
      " 'ulucak_mustafa_kemal_ataturk' 'gazi' 'cicek' 'mordogan' 'bozyaka'\n",
      " 'baris' 'zafertepe' 'mustafa_kemal_pasa' 'altintas' 'golcukler'\n",
      " 'mermerli' 'celal_bayar' 'hurriyet' 'goksu' 'ovacik' 'efeler'\n",
      " 'zeytinalani' 'sevgi' 'anafartalar' 'ulamis' 'iskele' 'teleferik'\n",
      " 'yurdoglu' 'balikliova' 'gazi_mustafa_kemal' 'guzelyali' 'tepekoy'\n",
      " 'adalet' 'merkez' 'camikebir' 'selcuk' 'ozbek' 'villakent' 'ulus'\n",
      " 'r_sevket_ince' 'aydin' 'cay' 'sahilevleri' 'menderes' 'ilipinar'\n",
      " 'ugur_mumcu' 'kazim_dirik' 'kurtulus' 'fuat_edip_baksi' 'zeytinlik'\n",
      " '85_yil_cumhuriyet' 'turabiye' 'camlipinar' 'yesilbaglar'\n",
      " 'gumuldur_ataturk' 'cankaya' 'evka_4' 'yenibagarasi' 'yemislik' 'torbali'\n",
      " 'yelki' 'egekent' '2_inonu' 'uzundere' 'guven' 'buca_osb' 'kalabak'\n",
      " 'yenice' 'istiklal' 'yesil_pinar' 'mustafa_kemal' 'kosukavak'\n",
      " 'fahrettin_altay' 'yakakent' 'korfez' 'ayvatlar' 'ayrancilar'\n",
      " 'incirli_pinar' 'tulbentli' 'oglananasi_ataturk' 'camlik' 'sigacik'\n",
      " 'huzur' 'gunaltay' 'kizilay' 'evka_5' 'isa_bey' 'ardic' 'kavaklidere'\n",
      " 'harmandali_gazi_mustafa_kemal_ataturk' 'gurpinar' 'fevzipasa'\n",
      " 'ozdere_cumhuriyet' 'bademli' 'sifne' 'umurbey' 'devrim' 'reis' 'yelalti'\n",
      " 'bademler' 'catalkaya' 'postacilar' 'tinaztepe' 'karacaoglan' 'ildir'\n",
      " 'sasalli_merkez' 'laleli' 'ergene' 'evka_6' 'yahselli' 'boyalik'\n",
      " 'gunerli' 'dicle' 'salih_omurtak' 'esatpasa' 'guzeltepe'\n",
      " 'suleyman_demirel' 'haciveli' 'alpaslan' 'siteler' 'yamanlar' 'kuscular'\n",
      " 'gumuspala' 'yenikoy' 'yukarikizilca_merkez' 'dumlupinar' '14_mayis'\n",
      " 'ufuk' 'demirkopru' 'turkcedit' 'vali_rahmi_bey' 'muammer_akar'\n",
      " 'm_fevzi_cakmak' 'dogancay' 'bengiler' 'gaziler' '4_eylul' 'peker'\n",
      " 'muratbey' 'yeni_mahalle' 'kuner' 'murathan' 'belen' 'gazi_osman_pasa'\n",
      " 'emrez' 'cennetoglu' 'akincilar' 'ulucak_cumhuriyet' 'esenlik'\n",
      " 'ahmet_taner_kislali' 'yigitler' 'payamli' 'armutlu_85_yil_cumhuriyet'\n",
      " 'sasal' 'ertugrul' 'sirinkapi' 'kozbeyli' 'bengisu' 'gumuldur_cumhuriyet'\n",
      " 'adnan_suvari' 'beyazevler' 'buca_koop' 'emmioglu' 'rustem' 'dagkizilca'\n",
      " 'ahmetbeyli' 'haci_isa' 'icmeler' 'tepecik' 'develi' 'birlik' 'kocatepe'\n",
      " 'dolaylar' 'yagcilar' 'oglananasi_cumhuriyet' 'turkmen' 'izkent'\n",
      " 'turkmenkoy' 'armutlu_hurriyet' 'adnan_menderes' 'duzce' 'akdeniz'\n",
      " 'pancar' 'yazibasi' 'cinarli' 'aziziye' 'org_nafiz_gurman' 'inciralti'\n",
      " 'orta' 'etiler' 'tuzcu' 'karanfil' 'cinar' 'celebi' 'sira' 'caldiran'\n",
      " 'gunluce' 'sehit_mehmet' 'bagcilar' 'mesrutiyet' 'universite' 'konak'\n",
      " 'maresal_fevzi_cakmak' 'karacaagac' 'degirmendere' 'doga' 'gungor' 'umit'\n",
      " 'aktepe' 'seyhan' 'yaylayurt' 'birgi' 'mersin_alani' 'ocakli'\n",
      " 'sekiz_eylul' 'evka_2' 'fahrettinpasa' 'karabaglar' 'sirintepe' 'golcuk'\n",
      " 'yeni' 'ataturk_osb' 'egemenlik' '2_kadriye' 'kazimpasa' 'ahihidir'\n",
      " 'muradiye' '2_anafartalar' 'kuyualan' 'goktasli' 'dincer' 'resat_bey'\n",
      " 'guzelyurt' 'ulu_camii' 'acarlar' 'haci_ishak' 'pasa' 'uncubozkoy'\n",
      " 'eski_cami' 'kirveli' 'ergenekon' 'efendi' 'arda' 'albayrak'\n",
      " 'selvilitepe' 'hafsa_sultan' 'topcuasim' 'ragip_bey' 'mesir' 'kocacesme'\n",
      " 'medar' 'tunca' 'yoruk' 'karaali' '1_anafartalar' 'yarhasanlar'\n",
      " 'sehitler' 'subasi' 'tevfikiye' 'kethuda' 'istasyonalti' 'durasilli'\n",
      " 'utku' 'dere' 'seyit_ahmet' 'gokceahmet' 'ayni_ali' 'has_hoca'\n",
      " 'merkez_efendi' 'saripinar' 'cengiz_topel' 'kecili_koy' 'carsi' 'ege'\n",
      " 'istasyon' 'akmescit' 'dilsikar' 'gaybiefendi' 'yunusemre' 'meydan'\n",
      " 'fuatpasa' 'saray' 'parmakoren' 'akkent' 'dagcesme' 'alipasa'\n",
      " 'yildirim_beyazit' 'servi' 'balikli' 'mecidiye' 'omerbey' 'g_kemal'\n",
      " 'kemaloz' 'durak' 'unalan' 'hasan_karaagac' 'erenler' 'ali_ihsan_pasa'\n",
      " 'erkmen_fevzi_cakmak' 'kanlica' 'dortyol' 'sahipata' 'osman_gazi' 'asagi'\n",
      " 'aktas' 'sirinevler' 'veysel_karani' 'pinarli' 'dervis_pasa' 'esrefpasa'\n",
      " 'imaret' 'marulcu' 'karsiyaka' 'haci_musa' 'yunus_emre' 'nazmi_saatci'\n",
      " 'selcuklu' 'sazi' 'guzelcamli' 'isabeyli' 'akbuk' 'ikicesmelik' 'zeybek'\n",
      " 'karaova' 'guzelhisar' 'yavansu' 'gerenkova' 'cuma' 'girne' 'davutlar'\n",
      " 'ovaeymir' 'hasanefendi_ramazan_pasa' 'hisar' 'bayraklidede'\n",
      " 'kadinlar_denizi' 'sogucak' 'koprulu_veysipasa' 'sumer' 'altinkum' 'ata'\n",
      " 'zeytinkoy' 'yenicamii' 'kemer' 'hacifeyzullah' 'kadikalesi' 'uceylul'\n",
      " 'yilmazkoy' 'hamitabat' 'ortaklar' 'mesudiye' 'yedieylul' 'yamac'\n",
      " 'sevketiye' 'isikli' 'alacamescit' 'caferli' 'agacli' 'imamkoy' 'karacay'\n",
      " 'turan' 'sandikli' 'celtikci' 'yaylakoy' 'karakollar' 'mersindere'\n",
      " 'camiatik' 'degirmenonu' 'muratdede' 'topraklik' 'kuspinar' 'sirakapilar'\n",
      " 'akkonak' 'incilipinar' 'feslegen' 'karaman' 'gultepe' 'mehmetcik'\n",
      " 'selcuk_bey' 'karahasanli' 'saraylar' 'asmalievler' 'kinikli' 'kayalar'\n",
      " 'hacikaplanlar' 'bagbasi' 'kervansaray' 'atalar' 'gumuscay' '15_mayis'\n",
      " 'sevindik' 'bala' 'kizilcasogut' 'deliktas' 'gerzele' 'pelitlibag'\n",
      " 'mehmet_akif_ersoy' 'kocadere' 'servergazi' 'saruhan' 'hallaclar'\n",
      " 'altintop' 'sirinkoy' 'ilbade' 'yenisafak' 'zumrut' 'gokpinar'\n",
      " 'dokuzkavaklar' 'tekke' 'cankurtaran' 'bereketler' '1200_evler' 'kayihan'\n",
      " 'cakmak' 'garipkoy' 'yenisehir' 'gemispinari' 'karakurt' 'dirmil'\n",
      " 'inlice' 'eskicesme' 'muskebi' 'emirbeyazit' 'umurca' 'okcular' 'akyaka'\n",
      " 'gulluk' 'gundogan' 'kemaliye' 'bitez' 'karacali' 'golkoy' 'kucukbuk'\n",
      " 'cayli' 'gumusluk' 'kafaca' 'karaburun' 'gokova' 'yalikavak' 'gulpinar'\n",
      " 'dorttepe' 'yangi' 'sogutluyurt' 'armutalan' 'geris' 'ismet_pasa'\n",
      " 'ortakoy' 'cirkan' 'hamitkoy' 'gelisim' 'torba' 'turgutreis' 'beldibi'\n",
      " 'kumbahce' 'patlangic' 'bayir' 'akyarlar' 'oren' 'beyobasi' 'karamehmet'\n",
      " 'terzialiler' 'karagedik' 'akcaalan' 'bogazici' 'dogusbelen' 'yakakoy'\n",
      " 'turgut' 'dugerek' 'guvercinlik' 'turkbuku' 'orhaniye' 'tuzla' 'kizlan'\n",
      " 'koyunbaba' 'foca' 'karabag' 'emecik' 'yokusbasi' 'gumbet' 'derekoy'\n",
      " 'alparslan' 'akarca' 'kotekli' 'karaculha' 'toparlar' 'islamhaneleri'\n",
      " 'camkoy' 'babatasi' 'yesilyurt' 'akinci' 'cami' 'kesikkapi' 'becin'\n",
      " 'resadiye' 'gurece' 'pinar' 'pazaryeri' 'mumcular' 'menteseoglu' 'tepe'\n",
      " 'sogut' 'tasyaka' 'beskopru' 'oludeniz' 'gokce' 'ulucami' 'peksimet'\n",
      " 'gocek' 'bozalan' 'gunes' 'turkevleri' 'yahsi' 'serefler' 'datca' 'yaka'\n",
      " 'kayakoy' 'farilya' 'eksiliyurt' 'muslihittin' 'kargi' 'kapukargin'\n",
      " 'kizilagac' 'eskikoy' 'dalakli' 'pinarlibelen' 'haci_ilyas' 'kizilbel'\n",
      " 'sarigerme' 'koprubasi' 'portakallik' 'dikmekavak' 'yesilkoy' 'sariana'\n",
      " 'ugurlu' 'konacik' 'turunc' 'gulagzi' 'yaniklar' 'kazikli' 'turkkuyusu'\n",
      " 'fevziye' 'kemeralti' 'arikbasi' 'selimiye' 'kiyikislacik' 'cevat_sakir'\n",
      " 'haciabti' 'cildir' 'meselik' 'ekincik' 'hisaronu' 'akcaova'\n",
      " 'ahmet_cavus_hayitli' 'yerkesik' 'yayla' 'gokceovacik' 'cokertme'\n",
      " 'kizilyaka' 'karginkuru' 'catalarik' 'bezkese' 'hatipirimi' 'zaferler'\n",
      " 'karagozler' 'firuzpasa_gazipasa' 'ayazkiyi' 'esenkoy' 'seyh' 'karakoy'\n",
      " 'mergenli' 'dogan' 'kavakarasi' 'kizilkaya' 'kumkoy' 'yazi' 'hacirustem'\n",
      " 'yaras' 'tepearasi' 'sindi' 'kiran' 'koru' 'gerisburnu' 'citlik'\n",
      " 'golbasi' 'kiramettin' 'incirkoy' 'burgaz']\n"
     ]
    }
   ],
   "source": [
    "df[\"location\"] = df[\"img-link href\"].apply(lambda x: x.split(\"/\")[3])\n",
    "df[\"city\"] = df[\"location\"].str.split(\"-\").str[0]\n",
    "df[\"district\"] = df[\"location\"].str.split(\"-\").str[1]\n",
    "df[\"neighborhood\"] = df[\"location\"].str.split(\"-\").str[2:-1]\n",
    "df[\"neighborhood\"] = df[\"neighborhood\"].apply(lambda x: \"_\".join(x))\n",
    "print(df[\"neighborhood\"].unique())"
   ]
  },
  {
   "cell_type": "code",
   "execution_count": 97,
   "metadata": {},
   "outputs": [],
   "source": [
    "drop_columns(df, [\"location\",\"img-link href\"])"
   ]
  },
  {
   "cell_type": "code",
   "execution_count": 98,
   "metadata": {},
   "outputs": [
    {
     "name": "stdout",
     "output_type": "stream",
     "text": [
      "<class 'pandas.core.frame.DataFrame'>\n",
      "RangeIndex: 8136 entries, 0 to 8135\n",
      "Data columns (total 8 columns):\n",
      " #   Column           Non-Null Count  Dtype \n",
      "---  ------           --------------  ----- \n",
      " 0   list-view-price  8136 non-null   object\n",
      " 1   celly            8136 non-null   object\n",
      " 2   celly 2          8136 non-null   object\n",
      " 3   celly 3          8136 non-null   object\n",
      " 4   celly 4          6858 non-null   object\n",
      " 5   city             8136 non-null   object\n",
      " 6   district         8136 non-null   object\n",
      " 7   neighborhood     8136 non-null   object\n",
      "dtypes: object(8)\n",
      "memory usage: 508.6+ KB\n"
     ]
    }
   ],
   "source": [
    "df.info()"
   ]
  },
  {
   "cell_type": "code",
   "execution_count": 99,
   "metadata": {},
   "outputs": [
    {
     "name": "stdout",
     "output_type": "stream",
     "text": [
      "                city      district neighborhood\n",
      "2782           izmir          buca       efeler\n",
      "4199           aydin        efeler        girne\n",
      "6177           mugla           ula    koprubasi\n",
      "5405         denizli     pamukkale  asmalievler\n",
      "7537           mugla        bodrum     akyarlar\n",
      "3330           izmir         cesme   cumhuriyet\n",
      "33             izmir     karsiyaka     bostanli\n",
      "6912           mugla        bodrum     kucukbuk\n",
      "2516           izmir         konak       kultur\n",
      "6668           mugla       dalaman      bezkese\n",
      "2540           izmir       bornova       evka_3\n",
      "5887           mugla        bodrum     kumbahce\n",
      "141            izmir         cigli     balatcik\n",
      "2806           izmir         cesme   cumhuriyet\n",
      "4568           aydin        efeler          ata\n",
      "1755           izmir         konak  mimar_sinan\n",
      "958            izmir         cesme        ilica\n",
      "6459           mugla      marmaris         tepe\n",
      "3955  afyonkarahisar        merkez     istiklal\n",
      "2223           izmir        odemis        zafer\n",
      "6113           mugla       fethiye       akarca\n",
      "1656           izmir         konak    guzelyali\n",
      "4595           aydin      kusadasi     davutlar\n",
      "6619           mugla       dalaman       merkez\n",
      "7288           mugla        bodrum    eskicesme\n",
      "5738           mugla        bodrum    eskicesme\n",
      "4811           aydin        efeler   cumhuriyet\n",
      "7932           mugla        bodrum        geris\n",
      "573            izmir      bayrakli       75_yil\n",
      "2875           izmir         cesme        ardic\n",
      "2950           izmir          urla      icmeler\n",
      "7004           mugla         datca       emecik\n",
      "4456           aydin        efeler   mesrutiyet\n",
      "2167           izmir    karabaglar    uckuyular\n",
      "2209           izmir       bornova   kazimdirik\n",
      "227            izmir          buca      kozagac\n",
      "4865         denizli     pamukkale  asmalievler\n",
      "4242           aydin       nazilli     kurtulus\n",
      "681            izmir     karsiyaka        aksoy\n",
      "7763           mugla        bodrum        yahsi\n",
      "7050           mugla        bodrum        geris\n",
      "7293           mugla        ortaca       dalyan\n",
      "5266         denizli  merkezefendi    yenisafak\n",
      "4740           aydin        efeler       efeler\n",
      "5478         denizli     pamukkale     istiklal\n",
      "7967           mugla       dalaman       merkez\n",
      "985            izmir       menemen   30_agustos\n",
      "1914           izmir        dikili     candarli\n",
      "4832         denizli  merkezefendi      gultepe\n",
      "6179           mugla       mentese   karamehmet\n"
     ]
    }
   ],
   "source": [
    "print(df[[\"city\",\"district\",\"neighborhood\"]].sample(50))"
   ]
  },
  {
   "cell_type": "code",
   "execution_count": 100,
   "metadata": {},
   "outputs": [
    {
     "name": "stdout",
     "output_type": "stream",
     "text": [
      "Index(['list-view-price', 'celly', 'celly 2', 'celly 3', 'celly 4', 'city',\n",
      "       'district', 'neighborhood'],\n",
      "      dtype='object')\n"
     ]
    }
   ],
   "source": [
    "print(df.columns)"
   ]
  },
  {
   "cell_type": "code",
   "execution_count": 101,
   "metadata": {},
   "outputs": [
    {
     "name": "stdout",
     "output_type": "stream",
     "text": [
      "['1 +\\n                        1' '3 +\\n                        1'\n",
      " '2 +\\n                        1' '4 +\\n                        1'\n",
      " '4 +\\n                        2' '5 +\\n                        1'\n",
      " '6 +\\n                        1' '7 +\\n                        1'\n",
      " '21 +\\n                        1' '6 +\\n                        2'\n",
      " '5 +\\n                        2' 'Stüdyo'\n",
      " '7 +\\n                        2' '3 +\\n                        2'\n",
      " '2 +\\n                        0' '6 +\\n                        0'\n",
      " '9 +\\n                        4' '9 +\\n                        1'\n",
      " '3 +\\n                        0' '1 +\\n                        15'\n",
      " '2 +\\n                        2' '8 +\\n                        1'\n",
      " '41 +\\n                        4' '4 +\\n                        0'\n",
      " '1 +\\n                        25' '4 +\\n                        4'\n",
      " '3 +\\n                        4' '1 +\\n                        2'\n",
      " '3 +\\n                        3' '31 +\\n                        1'\n",
      " '4 +\\n                        3' '9 +\\n                        5'\n",
      " '8 +\\n                        4' '4 +\\n                        5'\n",
      " '9 +\\n                        3' '25 +\\n                        5'\n",
      " '8 +\\n                        0' '9 +\\n                        9'\n",
      " '14 +\\n                        6' '10 +\\n                        1']\n"
     ]
    }
   ],
   "source": [
    "print(df[\"celly\"].unique())"
   ]
  },
  {
   "cell_type": "code",
   "execution_count": 102,
   "metadata": {},
   "outputs": [],
   "source": [
    "df[\"celly\"] = df[\"celly\"].apply(lambda x: x.replace(\"Stüdyo\", \"1 + 0\"))\n",
    "df[\"celly\"] = df[\"celly\"].apply(lambda x: x.replace(\"\\n\", \"\"))\n",
    "df[\"room\"] = df[\"celly\"].apply(lambda x: x.split(\"+\")[0]).astype(int)\n",
    "df[\"living_room\"] = df[\"celly\"].apply(lambda x: x.split(\"+\")[1]).astype(int)"
   ]
  },
  {
   "cell_type": "code",
   "execution_count": 103,
   "metadata": {},
   "outputs": [
    {
     "name": "stdout",
     "output_type": "stream",
     "text": [
      "[ 1  3  2  4  5  6  7 21  9  8 41 31 25 14 10]\n",
      "[ 1  2  0  4 15 25  3  5  9  6]\n"
     ]
    }
   ],
   "source": [
    "print(df[\"room\"].unique())\n",
    "print(df[\"living_room\"].unique())"
   ]
  },
  {
   "cell_type": "code",
   "execution_count": 104,
   "metadata": {},
   "outputs": [],
   "source": [
    "drop_columns(df, [\"celly\"])"
   ]
  },
  {
   "cell_type": "code",
   "execution_count": 105,
   "metadata": {},
   "outputs": [
    {
     "name": "stdout",
     "output_type": "stream",
     "text": [
      "<class 'pandas.core.frame.DataFrame'>\n",
      "RangeIndex: 8136 entries, 0 to 8135\n",
      "Data columns (total 9 columns):\n",
      " #   Column           Non-Null Count  Dtype \n",
      "---  ------           --------------  ----- \n",
      " 0   list-view-price  8136 non-null   object\n",
      " 1   celly 2          8136 non-null   object\n",
      " 2   celly 3          8136 non-null   object\n",
      " 3   celly 4          6858 non-null   object\n",
      " 4   city             8136 non-null   object\n",
      " 5   district         8136 non-null   object\n",
      " 6   neighborhood     8136 non-null   object\n",
      " 7   room             8136 non-null   int32 \n",
      " 8   living_room      8136 non-null   int32 \n",
      "dtypes: int32(2), object(7)\n",
      "memory usage: 508.6+ KB\n"
     ]
    }
   ],
   "source": [
    "df.info()"
   ]
  },
  {
   "cell_type": "code",
   "execution_count": 106,
   "metadata": {},
   "outputs": [
    {
     "name": "stdout",
     "output_type": "stream",
     "text": [
      "['55 m²' '150 m²' '60 m²' '160 m²' '135 m²' '67 m²' '140 m²' '170 m²'\n",
      " '130 m²' '230 m²' '220 m²' '210 m²' '89 m²' '120 m²' '200 m²' '355 m²'\n",
      " '75 m²' '110 m²' '100 m²' '65 m²' '145 m²' '115 m²' '1.000 m²' '250 m²'\n",
      " '105 m²' '50 m²' '87 m²' '90 m²' '85 m²' '155 m²' '275 m²' '240 m²'\n",
      " '95 m²' '174 m²' '80 m²' '125 m²' '180 m²' '165 m²' '350 m²' '97 m²'\n",
      " '45 m²' '300 m²' '84 m²' '42 m²' '98 m²' '86 m²' '500 m²' '70 m²' '51 m²'\n",
      " '73 m²' '132 m²' '325 m²' '141 m²' '450 m²' '600 m²' '47 m²' '72 m²'\n",
      " '71 m²' '3.000 m²' '175 m²' '320 m²' '280 m²' '156 m²' '190 m²' '78 m²'\n",
      " '162 m²' '185 m²' '18 m²' '330 m²' '151 m²' '56 m²' '136 m²' '131 m²'\n",
      " '48 m²' '580 m²' '119 m²' '147 m²' '77 m²' '245 m²' '35 m²' '375 m²'\n",
      " '146 m²' '161 m²' '163 m²' '149 m²' '206 m²' '138 m²' '93 m²' '63 m²'\n",
      " '41 m²' '183 m²' '96 m²' '108 m²' '76 m²' '475 m²' '359 m²' '124 m²'\n",
      " '91 m²' '194 m²' '43 m²' '4.500 m²' '68 m²' '205 m²' '20 m²' '103 m²'\n",
      " '53 m²' '270 m²' '58 m²' '302 m²' '505 m²' '800 m²' '168 m²' '154 m²'\n",
      " '368 m²' '178 m²' '40 m²' '750 m²' '92 m²' '181 m²' '400 m²' '30 m²'\n",
      " '260 m²' '460 m²' '390 m²' '64 m²' '360 m²' '340 m²' '550 m²' '38 m²'\n",
      " '121 m²' '4.000 m²' '295 m²' '112 m²' '137 m²' '22 m²' '128 m²'\n",
      " '3.200 m²' '440 m²' '122 m²' '370 m²' '380 m²' '204 m²' '148 m²' '142 m²'\n",
      " '520 m²' '166 m²' '870 m²' '143 m²' '57 m²' '286 m²' '81 m²' '116 m²'\n",
      " '209 m²' '59 m²' '106 m²' '74 m²' '1.301 m²' '52 m²' '167 m²' '217 m²'\n",
      " '25 m²' '290 m²' '196 m²' '184 m²' '159 m²' '195 m²' '640 m²' '285 m²'\n",
      " '235 m²' '337 m²' '211 m²' '134 m²' '832 m²' '152 m²' '88 m²' '213 m²'\n",
      " '126 m²' '255 m²' '199 m²' '127 m²' '11 m²' '66 m²' '399 m²' '187 m²'\n",
      " '341 m²' '745 m²' '118 m²' '144 m²' '15 m²' '535 m²' '5.500 m²' '114 m²'\n",
      " '208 m²' '94 m²' '46 m²' '173 m²' '900 m²' '225 m²' '402 m²' '111 m²'\n",
      " '193 m²' '1.100 m²' '212 m²' '102 m²' '177 m²' '101 m²' '164 m²' '158 m²'\n",
      " '62 m²' '172 m²' '9.000 m²' '21 m²' '117 m²' '82 m²' '49 m²' '176 m²'\n",
      " '182 m²' '981 m²' '256 m²' '32 m²' '3.510 m²' '215 m²' '1.057 m²'\n",
      " '171 m²' '79 m²' '169 m²' '28 m²' '104 m²' '201 m²' '310 m²' '1.150 m²'\n",
      " '2.000 m²' '228 m²' '700 m²' '349 m²' '203 m²' '510 m²' '31 m²' '33 m²'\n",
      " '950 m²' '650 m²' '252 m²' '493 m²' '265 m²' '1.400 m²' '5 m²' '113 m²'\n",
      " '36 m²' '317 m²' '850 m²' '249 m²' '109 m²' '420 m²' '995 m²' '545 m²'\n",
      " '192 m²' '1.250 m²' '490 m²' '760 m²' '157 m²' '54 m²' '405 m²' '99 m²']\n"
     ]
    }
   ],
   "source": [
    "print(df[\"celly 2\"].unique())"
   ]
  },
  {
   "cell_type": "code",
   "execution_count": 107,
   "metadata": {},
   "outputs": [],
   "source": [
    "df[\"celly 2\"] = df[\"celly 2\"].apply(lambda x: x.replace(\".\", \"\"))\n",
    "df[\"area\"] = df[\"celly 2\"].apply(lambda x: x.split(\" \")[0]).astype(int)"
   ]
  },
  {
   "cell_type": "code",
   "execution_count": 108,
   "metadata": {},
   "outputs": [
    {
     "name": "stdout",
     "output_type": "stream",
     "text": [
      "[  55  150   60  160  135   67  140  170  130  230  220  210   89  120\n",
      "  200  355   75  110  100   65  145  115 1000  250  105   50   87   90\n",
      "   85  155  275  240   95  174   80  125  180  165  350   97   45  300\n",
      "   84   42   98   86  500   70   51   73  132  325  141  450  600   47\n",
      "   72   71 3000  175  320  280  156  190   78  162  185   18  330  151\n",
      "   56  136  131   48  580  119  147   77  245   35  375  146  161  163\n",
      "  149  206  138   93   63   41  183   96  108   76  475  359  124   91\n",
      "  194   43 4500   68  205   20  103   53  270   58  302  505  800  168\n",
      "  154  368  178   40  750   92  181  400   30  260  460  390   64  360\n",
      "  340  550   38  121 4000  295  112  137   22  128 3200  440  122  370\n",
      "  380  204  148  142  520  166  870  143   57  286   81  116  209   59\n",
      "  106   74 1301   52  167  217   25  290  196  184  159  195  640  285\n",
      "  235  337  211  134  832  152   88  213  126  255  199  127   11   66\n",
      "  399  187  341  745  118  144   15  535 5500  114  208   94   46  173\n",
      "  900  225  402  111  193 1100  212  102  177  101  164  158   62  172\n",
      " 9000   21  117   82   49  176  182  981  256   32 3510  215 1057  171\n",
      "   79  169   28  104  201  310 1150 2000  228  700  349  203  510   31\n",
      "   33  950  650  252  493  265 1400    5  113   36  317  850  249  109\n",
      "  420  995  545  192 1250  490  760  157   54  405   99]\n"
     ]
    }
   ],
   "source": [
    "print(df[\"area\"].unique())"
   ]
  },
  {
   "cell_type": "code",
   "execution_count": 109,
   "metadata": {},
   "outputs": [],
   "source": [
    "drop_columns(df, [\"celly 2\"])"
   ]
  },
  {
   "cell_type": "code",
   "execution_count": 110,
   "metadata": {},
   "outputs": [
    {
     "name": "stdout",
     "output_type": "stream",
     "text": [
      "<class 'pandas.core.frame.DataFrame'>\n",
      "RangeIndex: 8136 entries, 0 to 8135\n",
      "Data columns (total 9 columns):\n",
      " #   Column           Non-Null Count  Dtype \n",
      "---  ------           --------------  ----- \n",
      " 0   list-view-price  8136 non-null   object\n",
      " 1   celly 3          8136 non-null   object\n",
      " 2   celly 4          6858 non-null   object\n",
      " 3   city             8136 non-null   object\n",
      " 4   district         8136 non-null   object\n",
      " 5   neighborhood     8136 non-null   object\n",
      " 6   room             8136 non-null   int32 \n",
      " 7   living_room      8136 non-null   int32 \n",
      " 8   area             8136 non-null   int32 \n",
      "dtypes: int32(3), object(6)\n",
      "memory usage: 476.8+ KB\n"
     ]
    }
   ],
   "source": [
    "df.info()"
   ]
  },
  {
   "cell_type": "code",
   "execution_count": 111,
   "metadata": {},
   "outputs": [
    {
     "name": "stdout",
     "output_type": "stream",
     "text": [
      "['25\\n                      Yaşında' '35\\n                      Yaşında'\n",
      " '2\\n                      Yaşında' '27\\n                      Yaşında'\n",
      " '15\\n                      Yaşında' '10\\n                      Yaşında'\n",
      " '20\\n                      Yaşında' '30\\n                      Yaşında'\n",
      " '16\\n                      Yaşında' '11\\n                      Yaşında'\n",
      " '31\\n                      Yaşında' 'Sıfır Bina'\n",
      " '5\\n                      Yaşında' '26\\n                      Yaşında'\n",
      " '12\\n                      Yaşında' '4\\n                      Yaşında'\n",
      " '6\\n                      Yaşında' '22\\n                      Yaşında'\n",
      " '23\\n                      Yaşında' '29\\n                      Yaşında'\n",
      " '3\\n                      Yaşında' '8\\n                      Yaşında'\n",
      " '33\\n                      Yaşında' '50\\n                      Yaşında'\n",
      " '7\\n                      Yaşında' '18\\n                      Yaşında'\n",
      " '32\\n                      Yaşında' '28\\n                      Yaşında'\n",
      " '14\\n                      Yaşında' '40\\n                      Yaşında'\n",
      " '9\\n                      Yaşında' '21\\n                      Yaşında'\n",
      " '45\\n                      Yaşında' '38\\n                      Yaşında'\n",
      " '19\\n                      Yaşında' '24\\n                      Yaşında'\n",
      " '17\\n                      Yaşında' '1\\n                      Yaşında'\n",
      " '36\\n                      Yaşında' '34\\n                      Yaşında'\n",
      " '13\\n                      Yaşında' '42\\n                      Yaşında'\n",
      " '44\\n                      Yaşında' '43\\n                      Yaşında'\n",
      " '37\\n                      Yaşında' '55\\n                      Yaşında'\n",
      " '47\\n                      Yaşında' '39\\n                      Yaşında'\n",
      " '49\\n                      Yaşında' '52\\n                      Yaşında'\n",
      " '300\\n                      Yaşında' '199\\n                      Yaşında'\n",
      " '48\\n                      Yaşında' '60\\n                      Yaşında'\n",
      " '61\\n                      Yaşında' '600\\n                      Yaşında'\n",
      " '100\\n                      Yaşında']\n"
     ]
    }
   ],
   "source": [
    "print(df[\"celly 3\"].unique())"
   ]
  },
  {
   "cell_type": "code",
   "execution_count": 112,
   "metadata": {},
   "outputs": [],
   "source": [
    "df[\"celly 3\"] = df[\"celly 3\"].apply(lambda x: x.replace(\"Sıfır Bina\", \"0\"))\n",
    "df[\"celly 3\"] = df[\"celly 3\"].apply(lambda x: x.replace(\"\\n\", \" \"))\n",
    "df[\"age\"] = df[\"celly 3\"].apply(lambda x: x.split(\" \")[0]).astype(int)"
   ]
  },
  {
   "cell_type": "code",
   "execution_count": 113,
   "metadata": {},
   "outputs": [],
   "source": [
    "drop_columns(df, [\"celly 3\"])"
   ]
  },
  {
   "cell_type": "code",
   "execution_count": 114,
   "metadata": {},
   "outputs": [
    {
     "name": "stdout",
     "output_type": "stream",
     "text": [
      "<class 'pandas.core.frame.DataFrame'>\n",
      "RangeIndex: 8136 entries, 0 to 8135\n",
      "Data columns (total 9 columns):\n",
      " #   Column           Non-Null Count  Dtype \n",
      "---  ------           --------------  ----- \n",
      " 0   list-view-price  8136 non-null   object\n",
      " 1   celly 4          6858 non-null   object\n",
      " 2   city             8136 non-null   object\n",
      " 3   district         8136 non-null   object\n",
      " 4   neighborhood     8136 non-null   object\n",
      " 5   room             8136 non-null   int32 \n",
      " 6   living_room      8136 non-null   int32 \n",
      " 7   area             8136 non-null   int32 \n",
      " 8   age              8136 non-null   int32 \n",
      "dtypes: int32(4), object(5)\n",
      "memory usage: 445.1+ KB\n",
      "None\n"
     ]
    }
   ],
   "source": [
    "print(df.info())"
   ]
  },
  {
   "cell_type": "code",
   "execution_count": 115,
   "metadata": {},
   "outputs": [
    {
     "name": "stdout",
     "output_type": "stream",
     "text": [
      "['Yüksek Giriş' '3. Kat' 'Ara Kat' '4. Kat' '2. Kat' 'Zemin' nan\n",
      " 'Tripleks' 'Villa Katı' 'Bahçe Katı' '1. Kat' '8. Kat' '6. Kat'\n",
      " 'Giriş Katı' '5. Kat' '7. Kat' '21 ve üzeri' 'En Üst Kat' 'Teras Katı'\n",
      " '13. Kat' 'Kot 1' '9. Kat' 'Çatı Katı' '10. Kat' '12. Kat' 'Kot 2'\n",
      " '15. Kat' 'Bodrum ve Zemin' '11. Kat' 'Kot 3' '18. Kat' '20. Kat'\n",
      " 'Yarı Bodrum' '14. Kat' '16. Kat' '17. Kat' 'Asma Kat' 'Bodrum' '19. Kat']\n"
     ]
    }
   ],
   "source": [
    "print(df[\"celly 4\"].unique())"
   ]
  },
  {
   "cell_type": "code",
   "execution_count": 116,
   "metadata": {},
   "outputs": [],
   "source": [
    "replace_dict = {\n",
    "    \"Kot 2\": \"-2. Kat\",\n",
    "    \"Kot 1\": \"-1. Kat\",\n",
    "    \"Yüksek Giriş\": \"1. Kat\",\n",
    "    \"Ara Kat\": \"3. Kat\",\n",
    "    \"En Üst Kat\": \"5. Kat\",\n",
    "    \"Bahçe Katı\": \"0. Kat\",\n",
    "    \"Yarı Bodrum\": \"0. Kat\",\n",
    "    \"Bodrum\": \"0. Kat\",\n",
    "    \"Kot 3\": \"-3. Kat\",\n",
    "    \"Çatı Katı\": \"5. Kat\",\n",
    "    \"Zemin\": \"0. Kat\",\n",
    "    \"Giriş Katı\": \"0. Kat\",\n",
    "    \"Villa Katı\": \"0. Kat\",\n",
    "    \"21 ve üzeri\": \"21. Kat\",\n",
    "    \"Bodrum ve Zemin\": \"0. Kat\",\n",
    "    \"Asma Kat\": \"1. Kat\",\n",
    "    \"Tripleks\": \"0. Kat\",\n",
    "    \"Teras Katı\": \"5. Kat\",\n",
    "    \"nan\": \"2. Kat\"\n",
    "}"
   ]
  },
  {
   "cell_type": "code",
   "execution_count": 119,
   "metadata": {},
   "outputs": [],
   "source": [
    "df[\"celly 4\"] = df[\"celly 4\"].replace(replace_dict.keys(), replace_dict.values()).astype(str)\n",
    "df[\"celly 4\"].dropna(inplace=True)\n",
    "df[\"floor\"] = df[\"celly 4\"].apply(lambda x: x.split(\".\")[0]).astype(int)"
   ]
  },
  {
   "cell_type": "code",
   "execution_count": 123,
   "metadata": {},
   "outputs": [],
   "source": [
    "drop_columns(df, [\"celly 4\"])"
   ]
  },
  {
   "cell_type": "code",
   "execution_count": 124,
   "metadata": {},
   "outputs": [
    {
     "name": "stdout",
     "output_type": "stream",
     "text": [
      "<class 'pandas.core.frame.DataFrame'>\n",
      "RangeIndex: 8136 entries, 0 to 8135\n",
      "Data columns (total 9 columns):\n",
      " #   Column           Non-Null Count  Dtype \n",
      "---  ------           --------------  ----- \n",
      " 0   list-view-price  8136 non-null   object\n",
      " 1   city             8136 non-null   object\n",
      " 2   district         8136 non-null   object\n",
      " 3   neighborhood     8136 non-null   object\n",
      " 4   room             8136 non-null   int32 \n",
      " 5   living_room      8136 non-null   int32 \n",
      " 6   area             8136 non-null   int32 \n",
      " 7   age              8136 non-null   int32 \n",
      " 8   floor            8136 non-null   int32 \n",
      "dtypes: int32(5), object(4)\n",
      "memory usage: 413.3+ KB\n",
      "None\n"
     ]
    }
   ],
   "source": [
    "print(df.info())"
   ]
  },
  {
   "cell_type": "code",
   "execution_count": null,
   "metadata": {},
   "outputs": [],
   "source": []
  },
  {
   "cell_type": "code",
   "execution_count": null,
   "metadata": {},
   "outputs": [],
   "source": []
  }
 ],
 "metadata": {
  "kernelspec": {
   "display_name": "base",
   "language": "python",
   "name": "python3"
  },
  "language_info": {
   "codemirror_mode": {
    "name": "ipython",
    "version": 3
   },
   "file_extension": ".py",
   "mimetype": "text/x-python",
   "name": "python",
   "nbconvert_exporter": "python",
   "pygments_lexer": "ipython3",
   "version": "3.12.7"
  }
 },
 "nbformat": 4,
 "nbformat_minor": 2
}
